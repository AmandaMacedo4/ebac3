{
  "cells": [
    {
      "cell_type": "code",
      "execution_count": null,
      "metadata": {
        "id": "HJwaY2Fej5-3"
      },
      "outputs": [],
      "source": [
        "\n",
        "nome = input(\"Digite seu nome: \")\n",
        "print(\"Olá\", nome)\n",
        "\n",
        "def calculadora():\n",
        "  num = int(input(\"Digite um número: \"))\n",
        "  print(\"Número digitado:\", num)\n",
        "  funcao = input(\"Digite a função que pretende. Digite + para Soma, - para subtração, * para multiplicação e / para divisão: \")\n",
        "  num2 = int(input(\"Digite outro número: \"))\n",
        "  print(\"Número digitado:\", num2)\n",
        "    if funcao != \"+\" and funcao != \"-\" and funcao != \"*\" and funcao != \"/\":\n",
        "    funcao = input(\"Função inválida. Digite novamente:\")\n",
        "    print(\"Função digitada:\", funcao)\n",
        "\n",
        "\n",
        "  if funcao == \"+\": #adição\n",
        "    soma = (int(num) + int(num2))\n",
        "    print(nome,\", o seu resultado é: \", soma)\n",
        "  elif funcao == \"-\": #subtração\n",
        "    subtracao = int(num) - int(num2)\n",
        "    print(nome,\", o seu resultado é: \", subtracao)\n",
        "  elif funcao == \"*\": #multiplicação\n",
        "    multiplicacao = int(num) * int(num2)\n",
        "    print(nome,\", o seu resultado é: \", multiplicacao)\n",
        "  elif funcao == \"/\": #divisão\n",
        "      if num2 == 0:\n",
        "          print(\"Erro: Divisão por zero não é permitida.\")\n",
        "          return calculadora()\n",
        "          divisao = int(num) / int(num2)\n",
        "          print(nome,\", o seu resultado é: \", divisao)\n",
        "\n",
        "\n",
        "calculadora()\n"
      ]
    }
  ],
  "metadata": {
    "colab": {
      "provenance": []
    },
    "kernelspec": {
      "display_name": "Python 3",
      "name": "python3"
    },
    "language_info": {
      "name": "python"
    }
  },
  "nbformat": 4,
  "nbformat_minor": 0
}
